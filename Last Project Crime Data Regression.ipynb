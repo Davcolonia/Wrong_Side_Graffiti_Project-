{
 "cells": [
  {
   "cell_type": "code",
   "execution_count": 1,
   "metadata": {},
   "outputs": [],
   "source": [
    "import pandas as pd\n",
    "import matplotlib.pyplot as plt\n",
    "import numpy as np\n",
    "from sklearn import linear_model\n",
    "from sklearn.metrics import r2_score"
   ]
  },
  {
   "cell_type": "code",
   "execution_count": 2,
   "metadata": {},
   "outputs": [
    {
     "data": {
      "text/html": [
       "<div>\n",
       "<style scoped>\n",
       "    .dataframe tbody tr th:only-of-type {\n",
       "        vertical-align: middle;\n",
       "    }\n",
       "\n",
       "    .dataframe tbody tr th {\n",
       "        vertical-align: top;\n",
       "    }\n",
       "\n",
       "    .dataframe thead th {\n",
       "        text-align: right;\n",
       "    }\n",
       "</style>\n",
       "<table border=\"1\" class=\"dataframe\">\n",
       "  <thead>\n",
       "    <tr style=\"text-align: right;\">\n",
       "      <th></th>\n",
       "      <th>Murder and nonnegligent Manslaughter</th>\n",
       "      <th>Legacy rape /1</th>\n",
       "      <th>Robbery</th>\n",
       "      <th>Aggravated assault</th>\n",
       "      <th>Property crime total</th>\n",
       "      <th>Burglary</th>\n",
       "      <th>Larceny-theft</th>\n",
       "      <th>Motor vehicle theft</th>\n",
       "      <th>New Y</th>\n",
       "    </tr>\n",
       "  </thead>\n",
       "  <tbody>\n",
       "    <tr>\n",
       "      <th>0</th>\n",
       "      <td>2</td>\n",
       "      <td>4</td>\n",
       "      <td>14</td>\n",
       "      <td>99</td>\n",
       "      <td>249</td>\n",
       "      <td>131</td>\n",
       "      <td>65</td>\n",
       "      <td>53</td>\n",
       "      <td>0.0</td>\n",
       "    </tr>\n",
       "    <tr>\n",
       "      <th>1</th>\n",
       "      <td>0</td>\n",
       "      <td>2</td>\n",
       "      <td>10</td>\n",
       "      <td>24</td>\n",
       "      <td>260</td>\n",
       "      <td>96</td>\n",
       "      <td>150</td>\n",
       "      <td>14</td>\n",
       "      <td>0.0</td>\n",
       "    </tr>\n",
       "    <tr>\n",
       "      <th>2</th>\n",
       "      <td>1</td>\n",
       "      <td>45</td>\n",
       "      <td>166</td>\n",
       "      <td>440</td>\n",
       "      <td>3199</td>\n",
       "      <td>623</td>\n",
       "      <td>1860</td>\n",
       "      <td>716</td>\n",
       "      <td>0.0</td>\n",
       "    </tr>\n",
       "    <tr>\n",
       "      <th>3</th>\n",
       "      <td>1</td>\n",
       "      <td>9</td>\n",
       "      <td>110</td>\n",
       "      <td>182</td>\n",
       "      <td>2533</td>\n",
       "      <td>362</td>\n",
       "      <td>1842</td>\n",
       "      <td>329</td>\n",
       "      <td>0.0</td>\n",
       "    </tr>\n",
       "    <tr>\n",
       "      <th>4</th>\n",
       "      <td>0</td>\n",
       "      <td>3</td>\n",
       "      <td>38</td>\n",
       "      <td>47</td>\n",
       "      <td>577</td>\n",
       "      <td>110</td>\n",
       "      <td>381</td>\n",
       "      <td>86</td>\n",
       "      <td>0.0</td>\n",
       "    </tr>\n",
       "  </tbody>\n",
       "</table>\n",
       "</div>"
      ],
      "text/plain": [
       "   Murder and nonnegligent Manslaughter  Legacy rape /1  Robbery  \\\n",
       "0                                     2               4       14   \n",
       "1                                     0               2       10   \n",
       "2                                     1              45      166   \n",
       "3                                     1               9      110   \n",
       "4                                     0               3       38   \n",
       "\n",
       "   Aggravated assault  Property crime total  Burglary  Larceny-theft  \\\n",
       "0                  99                   249       131             65   \n",
       "1                  24                   260        96            150   \n",
       "2                 440                  3199       623           1860   \n",
       "3                 182                  2533       362           1842   \n",
       "4                  47                   577       110            381   \n",
       "\n",
       "   Motor vehicle theft  New Y  \n",
       "0                   53    0.0  \n",
       "1                   14    0.0  \n",
       "2                  716    0.0  \n",
       "3                  329    0.0  \n",
       "4                   86    0.0  "
      ]
     },
     "execution_count": 2,
     "metadata": {},
     "output_type": "execute_result"
    }
   ],
   "source": [
    "data = pd.read_csv(\"Local_Crime1.csv\")\n",
    "data.head()"
   ]
  },
  {
   "cell_type": "code",
   "execution_count": 3,
   "metadata": {},
   "outputs": [
    {
     "data": {
      "text/plain": [
       "LinearRegression(copy_X=True, fit_intercept=True, n_jobs=1, normalize=False)"
      ]
     },
     "execution_count": 3,
     "metadata": {},
     "output_type": "execute_result"
    }
   ],
   "source": [
    "from sklearn.linear_model import LinearRegression\n",
    "model = LinearRegression()\n",
    "model"
   ]
  },
  {
   "cell_type": "code",
   "execution_count": 4,
   "metadata": {},
   "outputs": [
    {
     "data": {
      "text/plain": [
       "['Murder and nonnegligent Manslaughter',\n",
       " 'Legacy rape /1',\n",
       " 'Robbery',\n",
       " 'Aggravated assault',\n",
       " 'Property crime total',\n",
       " 'Burglary',\n",
       " 'Larceny-theft',\n",
       " 'Motor vehicle theft']"
      ]
     },
     "execution_count": 4,
     "metadata": {},
     "output_type": "execute_result"
    }
   ],
   "source": [
    "list(data)[:-1]"
   ]
  },
  {
   "cell_type": "code",
   "execution_count": 5,
   "metadata": {},
   "outputs": [
    {
     "name": "stdout",
     "output_type": "stream",
     "text": [
      "LinearRegression(copy_X=True, fit_intercept=True, n_jobs=1, normalize=False)\n"
     ]
    }
   ],
   "source": [
    "y = data[\"New Y\"]\n",
    "X = data[list(data)[:-1]]\n",
    "#taking all the x and finding the smallest error bet x and ys\n",
    "model.fit(X, y)\n",
    "print(model)"
   ]
  },
  {
   "cell_type": "code",
   "execution_count": 6,
   "metadata": {},
   "outputs": [
    {
     "name": "stdout",
     "output_type": "stream",
     "text": [
      "Weight coefficients:  [-0.05833708 -0.00012932 -0.00118146  0.00061467  0.00012915  0.00046388\n",
      " -0.00016518 -0.00016955]\n",
      "y-axis intercept:  -0.038159485537533094\n"
     ]
    }
   ],
   "source": [
    "print('Weight coefficients: ', model.coef_)\n",
    "print('y-axis intercept: ', model.intercept_) "
   ]
  },
  {
   "cell_type": "code",
   "execution_count": 7,
   "metadata": {},
   "outputs": [
    {
     "name": "stdout",
     "output_type": "stream",
     "text": [
      "True output: 0.0\n",
      "Predicted output: -0.037835279363209795\n",
      "Prediction Error: -0.037835279363209795\n"
     ]
    }
   ],
   "source": [
    "predictions = model.predict(X)\n",
    "index = 0\n",
    "print(f\"True output: {y[index]}\")\n",
    "print(f\"Predicted output: {predictions[index]}\")\n",
    "print(f\"Prediction Error: {predictions[index]-y[index]}\")"
   ]
  },
  {
   "cell_type": "code",
   "execution_count": 8,
   "metadata": {},
   "outputs": [
    {
     "data": {
      "text/plain": [
       "0.029195053115015357"
      ]
     },
     "execution_count": 8,
     "metadata": {},
     "output_type": "execute_result"
    }
   ],
   "source": [
    "r2_score(y, predictions)"
   ]
  },
  {
   "cell_type": "code",
   "execution_count": null,
   "metadata": {},
   "outputs": [],
   "source": []
  }
 ],
 "metadata": {
  "kernelspec": {
   "display_name": "Python 3",
   "language": "python",
   "name": "python3"
  },
  "language_info": {
   "codemirror_mode": {
    "name": "ipython",
    "version": 3
   },
   "file_extension": ".py",
   "mimetype": "text/x-python",
   "name": "python",
   "nbconvert_exporter": "python",
   "pygments_lexer": "ipython3",
   "version": "3.6.4"
  }
 },
 "nbformat": 4,
 "nbformat_minor": 2
}
