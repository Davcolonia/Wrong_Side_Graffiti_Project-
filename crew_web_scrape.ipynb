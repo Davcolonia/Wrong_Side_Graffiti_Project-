{
 "cells": [
  {
   "cell_type": "code",
   "execution_count": 1,
   "metadata": {},
   "outputs": [],
   "source": [
    "from bs4 import BeautifulSoup\n",
    "import requests"
   ]
  },
  {
   "cell_type": "code",
   "execution_count": 4,
   "metadata": {},
   "outputs": [],
   "source": [
    "url = 'https://forum.12ozprophet.com/topic/50541-lords-crew/?page=111'"
   ]
  },
  {
   "cell_type": "code",
   "execution_count": 5,
   "metadata": {},
   "outputs": [],
   "source": [
    "pages = list(range(110,111))"
   ]
  },
  {
   "cell_type": "code",
   "execution_count": 15,
   "metadata": {},
   "outputs": [
    {
     "name": "stdout",
     "output_type": "stream",
     "text": [
      "{'http://s3.amazonaws.com/12oz-2018-ipsboard/monthly_2017_03/5439985173_055910c892.jpg.44c25ecaeefba77547f3c2e43660bce7.jpg', 'http://s3.amazonaws.com/12oz-2018-ipsboard/monthly_2017_03/5439987273_b9ec804af6.jpg.a6a5f8761f7cc26e4128502c40c86ad5.jpg', 'http://s3.amazonaws.com/12oz-2018-ipsboard/monthly_2017_03/5439983399_4393ec188c.jpg.3ec4acc798e1ed358932e8bed9b65373.jpg', 'http://s3.amazonaws.com/12oz-2018-ipsboard/monthly_2017_03/5439989569_27c315ae1a.jpg.0175f943baa123fd1dfdc411645a99aa.jpg', 'http://s3.amazonaws.com/12oz-2018-ipsboard/monthly_2017_03/5440594148_4e6985ac3b.jpg.122476adf8e19beaf314cc5cb033d640.jpg', 'http://s3.amazonaws.com/12oz-2018-ipsboard/monthly_2017_03/5440593160_2b7a6542f2.jpg.158dd4816c74a1e34bb1a43d97baf86f.jpg', 'http://s3.amazonaws.com/12oz-2018-ipsboard/monthly_2017_03/5439985879_69a18a8ff9.jpg.146035f2e05447c3c0a22185bbe76d70.jpg', 'http://s3.amazonaws.com/12oz-2018-ipsboard/monthly_2017_03/5440589424_ac0fd0b83a.jpg.df12478d2472119bcaa6d064212dad63.jpg'}\n"
     ]
    }
   ],
   "source": [
    "base_url = \"https://forum.12ozprophet.com/topic/50541-lords-crew/?page=111\"\n",
    "images = set()\n",
    "url = base_url+str(page)\n",
    "response = requests.get(url)\n",
    "soup = BeautifulSoup(response.text, 'html.parser')\n",
    "results = soup.find_all('img', class_= \"ipsImage ipsImage_thumbnailed\") \n",
    "results = [\"http:\"+i[\"src\"] for i in results] \n",
    "for result in results:\n",
    "    images.add(result)\n",
    "print(images)"
   ]
  },
  {
   "cell_type": "code",
   "execution_count": 13,
   "metadata": {},
   "outputs": [],
   "source": [
    "test = set()\n"
   ]
  },
  {
   "cell_type": "code",
   "execution_count": null,
   "metadata": {},
   "outputs": [],
   "source": []
  },
  {
   "cell_type": "code",
   "execution_count": null,
   "metadata": {},
   "outputs": [],
   "source": [
    "test.add"
   ]
  },
  {
   "cell_type": "code",
   "execution_count": null,
   "metadata": {},
   "outputs": [],
   "source": []
  },
  {
   "cell_type": "code",
   "execution_count": null,
   "metadata": {},
   "outputs": [],
   "source": []
  }
 ],
 "metadata": {
  "kernelspec": {
   "display_name": "Python 3",
   "language": "python",
   "name": "python3"
  },
  "language_info": {
   "codemirror_mode": {
    "name": "ipython",
    "version": 3
   },
   "file_extension": ".py",
   "mimetype": "text/x-python",
   "name": "python",
   "nbconvert_exporter": "python",
   "pygments_lexer": "ipython3",
   "version": "3.6.5"
  }
 },
 "nbformat": 4,
 "nbformat_minor": 2
}
