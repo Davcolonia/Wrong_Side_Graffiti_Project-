{
 "cells": [
  {
   "cell_type": "code",
   "execution_count": 20,
   "metadata": {},
   "outputs": [],
   "source": [
    "from bs4 import BeautifulSoup\n",
    "import requests"
   ]
  },
  {
   "cell_type": "code",
   "execution_count": 21,
   "metadata": {},
   "outputs": [],
   "source": [
    "url = 'https://www.fatcap.com/crews/lords/pictures.html?page=1'"
   ]
  },
  {
   "cell_type": "code",
   "execution_count": 28,
   "metadata": {},
   "outputs": [],
   "source": [
    "pages = list(range(1,5))"
   ]
  },
  {
   "cell_type": "code",
   "execution_count": 29,
   "metadata": {},
   "outputs": [
    {
     "data": {
      "text/plain": [
       "[1, 2, 3, 4]"
      ]
     },
     "execution_count": 29,
     "metadata": {},
     "output_type": "execute_result"
    }
   ],
   "source": [
    "pages"
   ]
  },
  {
   "cell_type": "code",
   "execution_count": 23,
   "metadata": {},
   "outputs": [],
   "source": [
    "response = requests.get(url)"
   ]
  },
  {
   "cell_type": "code",
   "execution_count": 24,
   "metadata": {},
   "outputs": [],
   "source": [
    "soup = BeautifulSoup(response.text, 'html.parser')"
   ]
  },
  {
   "cell_type": "code",
   "execution_count": 25,
   "metadata": {},
   "outputs": [],
   "source": [
    "results = soup.find_all('a', class_= \"hover\") "
   ]
  },
  {
   "cell_type": "code",
   "execution_count": 26,
   "metadata": {},
   "outputs": [
    {
     "data": {
      "text/plain": [
       "[]"
      ]
     },
     "execution_count": 26,
     "metadata": {},
     "output_type": "execute_result"
    }
   ],
   "source": []
  },
  {
   "cell_type": "code",
   "execution_count": 43,
   "metadata": {},
   "outputs": [
    {
     "name": "stdout",
     "output_type": "stream",
     "text": [
      "['https://s3.amazonaws.com/graffiti.fatcap.com/616/bgp_a09b5503701a9706025e545cc3d7b78e.jpg', 'https://s3.amazonaws.com/graffiti.fatcap.com/616/bgp_0caf7614a65914dd23a3cdfe2291541e.jpg', 'https://s3.amazonaws.com/graffiti.fatcap.com/614/bgp_d2a4808e304f072c045f8fe30d57356e.jpg', 'https://s3.amazonaws.com/graffiti.fatcap.com/604/bgp_009807a1755b09d5984b392d328cc331.jpg', 'https://s3.amazonaws.com/graffiti.fatcap.com/590/bgp_2ab3055baeb1ddc3d44319bf378544b6.jpg', 'https://s3.amazonaws.com/graffiti.fatcap.com/588/bgp_14a341c81bfc46021c9a8c6525cf94d9.jpg', 'https://s3.amazonaws.com/graffiti.fatcap.com/588/bgp_f29896628c7ab6561d802324a1430fc1.jpg', 'https://s3.amazonaws.com/graffiti.fatcap.com/588/bgp_d0b2b4a87794e05716d106f021d32ba2.jpg', 'https://s3.amazonaws.com/graffiti.fatcap.com/588/bgp_e0a8a8dcf70a9f9c02eca2fc526bbeec.jpg', 'https://s3.amazonaws.com/graffiti.fatcap.com/588/bgp_cd509b652f84a2994400600645ec710e.jpg', 'https://s3.amazonaws.com/graffiti.fatcap.com/588/bgp_4eef1a75d77811ff0b499331ee5880b9.jpg', 'https://s3.amazonaws.com/graffiti.fatcap.com/586/bgp_9dfef2cd260914582f2a38827246afe4.jpg', 'https://s3.amazonaws.com/graffiti.fatcap.com/586/bgp_28329ee3355e886dc1ae9e5dfc65dc65.jpg', 'https://s3.amazonaws.com/graffiti.fatcap.com/586/bgp_135a23eaed47f6f6c3fc895542574c3e.jpg', 'https://s3.amazonaws.com/graffiti.fatcap.com/586/bgp_d730ded1dccd22fb61ea318618486ebd.jpg', 'https://s3.amazonaws.com/graffiti.fatcap.com/586/bgp_85ee539deab2594500ea4f18076153bf.jpg', 'https://s3.amazonaws.com/graffiti.fatcap.com/586/bgp_f3d3c030dc2aef3e6336df8e5f3622f5.jpg', 'https://s3.amazonaws.com/graffiti.fatcap.com/586/bgp_9546f6d559a3c64ab087f67a1bc6d598.jpg', 'https://s3.amazonaws.com/graffiti.fatcap.com/584/bgp_b3e5b15ecb4d9f1a1f55812b396fcdc0.jpg', 'https://s3.amazonaws.com/graffiti.fatcap.com/584/bgp_b76c49b1cdb8c343e9617e46a2c8ad68.jpg', 'https://s3.amazonaws.com/graffiti.fatcap.com/576/bgp_f451cea8823989ae70798e30f44f16e2.jpg', 'https://s3.amazonaws.com/graffiti.fatcap.com/558/bgp_3de64188d53983fa38d7bd4ce4d5f177.jpg', 'https://s3.amazonaws.com/graffiti.fatcap.com/534/bgp_a05f05530ad7a7dbf449c4a84314dea0.jpg', 'https://s3.amazonaws.com/graffiti.fatcap.com/516/bgp_27801bff29d7c5d8e8666fbb32d7d2a5.jpg', 'https://s3.amazonaws.com/graffiti.fatcap.com/486/bgp_4c73df0ca4a239ddca3ffdf835b94067.jpg', '/images/layout/side-flash.gif', '/images/layout/ico-tag-11.gif', '/images/layout/ico-tag-13.gif', '/images/layout/ico-tag-15.gif', '/images/layout/ico-tag-2.gif', '/images/layout/ico-tag-53.gif', '/images/layout/ico-tag-55.gif', '/images/layout/ico-tag-23.gif', '/images/layout/ico-tag-25.gif', '/images/layout/ico-tag-27.gif', '/images/layout/ico-footer-fatcap.gif', '/images/layout/ico-footer-design.gif', '/images/layout/ico-footer-fatcap.gif']\n"
     ]
    }
   ],
   "source": [
    "base_url = \"https://www.fatcap.com/crews/lords/pictures.html?page=\"\n",
    "images = []\n",
    "for page in pages: \n",
    "    url = base_url+str(page)\n",
    "    response = requests.get(url)\n",
    "    soup = BeautifulSoup(response.text, 'html.parser')\n",
    "    results = soup.find_all('img') \n",
    "    results = [i[\"src\"].replace('rsq','bgp') for i in results]\n",
    "print(results) "
   ]
  },
  {
   "cell_type": "code",
   "execution_count": null,
   "metadata": {},
   "outputs": [],
   "source": [
    "https://www.fatcap.com/uploads/sht/20251/bgp_a88af4a724e4328a7884db5ec29cf3dc0ef68fc1.jpg\n",
    "http:https://www.fatcap.com/crews/lords/pictures.html?page=/uploads/sht/20251/rsq_a88af4a724e4328a7884db5ec29cf3dc0ef68fc1.jpg"
   ]
  },
  {
   "cell_type": "code",
   "execution_count": null,
   "metadata": {},
   "outputs": [],
   "source": [
    "[\"http:\"+i[\"title href\"] for i in results] "
   ]
  }
 ],
 "metadata": {
  "kernelspec": {
   "display_name": "Python 3",
   "language": "python",
   "name": "python3"
  },
  "language_info": {
   "codemirror_mode": {
    "name": "ipython",
    "version": 3
   },
   "file_extension": ".py",
   "mimetype": "text/x-python",
   "name": "python",
   "nbconvert_exporter": "python",
   "pygments_lexer": "ipython3",
   "version": "3.6.5"
  }
 },
 "nbformat": 4,
 "nbformat_minor": 2
}
